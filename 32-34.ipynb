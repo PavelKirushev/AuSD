{
 "cells": [
  {
   "cell_type": "markdown",
   "id": "70621518-aa46-466b-a096-a75284b3da69",
   "metadata": {},
   "source": [
    "32\n",
    "Используя модуль array и библиотеку numpy, решить следующие задачи:\r\n",
    "а) Дан массив размера  N . После каждого отрицательного элемента массива вставить элемент с нулевым значением.\r\n",
    "б) Дана матрица размера  M×N . Упорядочить ее столбцы так, чтобы их последние элементы образовывали убывающую последовательность."
   ]
  },
  {
   "cell_type": "code",
   "execution_count": 3,
   "id": "de26ac1c-6b60-4b15-84c8-e51a75eaaaee",
   "metadata": {},
   "outputs": [
    {
     "name": "stdout",
     "output_type": "stream",
     "text": [
      "[ 5  4  3  2  1  0 -1  0 -2  0 -3  0 -4  0]\n"
     ]
    }
   ],
   "source": [
    "#пункт а\n",
    "import numpy as np\n",
    "\n",
    "def zero(arr):\n",
    "    ind = np.where(arr < 0)[0]\n",
    "    massiv = np.insert(arr, ind + 1, 0)\n",
    "    return massiv\n",
    "\n",
    "array = np.array([5, 4, 3, 2, 1, 0, -1, -2, -3, -4])\n",
    "mas = zero(array)\n",
    "print(mas)"
   ]
  },
  {
   "cell_type": "markdown",
   "id": "28f5ce37-5fd8-4a9a-a9b2-7b498ffe25c9",
   "metadata": {},
   "source": [
    "б) Дана матрица размера M×N . Упорядочить ее столбцы так, чтобы их последние элементы образовывали убывающую последовательность."
   ]
  },
  {
   "cell_type": "code",
   "execution_count": 2,
   "id": "d1f96e5c-35fe-4a34-af40-0560ba4d1a87",
   "metadata": {},
   "outputs": [
    {
     "name": "stdout",
     "output_type": "stream",
     "text": [
      "[[2 3 1]\n",
      " [5 6 4]\n",
      " [7 8 9]]\n"
     ]
    }
   ],
   "source": [
    "#пункт б\n",
    "import numpy as np\n",
    "\n",
    "array = np.array([1, 2, 3, 4, 5, 6, 9, 7, 8])\n",
    "array = array.reshape(3, 3)#изменение размерности\n",
    "ind = np.argsort(array[-1, :])#получаем отсортированные индексы последних элементов каждого столбца\n",
    "mas = array[:, ind]\n",
    "print(mas)"
   ]
  },
  {
   "cell_type": "markdown",
   "id": "174e8d02-b8e2-416b-8ff1-3c74de0f4ff4",
   "metadata": {},
   "source": [
    "33\n",
    "Дан стек. Необходимо найти среднее арифметическое всех его элементов."
   ]
  },
  {
   "cell_type": "code",
   "execution_count": 4,
   "id": "6ad62399-0005-4a32-90a0-a74a86bb68bf",
   "metadata": {},
   "outputs": [
    {
     "name": "stdout",
     "output_type": "stream",
     "text": [
      "ERROR\n",
      "\n",
      "0\n",
      "4 6 7 \n",
      "3\n",
      "4 6 \n",
      "2\n",
      "5.0\n"
     ]
    }
   ],
   "source": [
    "class Node():\n",
    "    def __init__(self, value, next=None, prev=None):\n",
    "        self.next = next\n",
    "        self.prev = prev\n",
    "        self.value = value\n",
    "\n",
    "class Stack():\n",
    "    def __init__(self, value):\n",
    "        self.head = Node(value=value, prev=None, next=None)\n",
    "        self.tail = self.head\n",
    "        self.size = 1\n",
    "\n",
    "    def push(self, value):\n",
    "        if self.size == 0:\n",
    "            self.head = Node(value=value, next=None, prev=None)\n",
    "            self.tail = self.head\n",
    "            self.size = 1\n",
    "            return\n",
    "        tmp = self.tail\n",
    "        tmp.next = Node(value=value, next=None, prev=tmp)\n",
    "        self.tail = tmp.next\n",
    "        self.size += 1\n",
    "\n",
    "    def pop(self):\n",
    "        if self.size <= 0:\n",
    "            print(\"ERROR\")\n",
    "            return\n",
    "        if self.size == 1:\n",
    "            self.head = None\n",
    "            self.tail = None\n",
    "            self.size -= 1\n",
    "            return\n",
    "        tmp = self.tail\n",
    "        self.tail = tmp.prev\n",
    "        self.tail.next = None\n",
    "        self.size -= 1\n",
    "\n",
    "    def peek(self):\n",
    "        return self.head.value\n",
    "\n",
    "    def is_empty(self):\n",
    "        return self.size == 0\n",
    "\n",
    "    def size(self):\n",
    "        return self.size\n",
    "\n",
    "    def output(self):\n",
    "        tmp = self.head\n",
    "        while tmp:\n",
    "            print(tmp.value, end=\" \")\n",
    "            tmp = tmp.next\n",
    "        print(\"\")\n",
    "\n",
    "    def sum(self):\n",
    "        tmp = self.head\n",
    "        summa = 0\n",
    "        while tmp:\n",
    "            summa += tmp.value\n",
    "            tmp = tmp.next\n",
    "        return summa\n",
    "\n",
    "    def srzn(self):\n",
    "        return self.sum() / self.size\n",
    "\n",
    "\n",
    "stack = Stack(5)  # \"5\"\n",
    "stack.pop()  # \"\"\n",
    "stack.pop()  # \"ERROR\"\n",
    "stack.output()  # \"\"\n",
    "print(stack.size)  # 0\n",
    "stack.push(4)  # \"4\"\n",
    "stack.push(6)  # \"4 6\"\n",
    "stack.push(7)  # \"4 6 7\"\n",
    "stack.output()\n",
    "print(stack.size)  # 3\n",
    "stack.pop()  # \"4 6\"\n",
    "stack.output()\n",
    "print(stack.size)  # 2\n",
    "print(stack.srzn())  # 5.0"
   ]
  },
  {
   "cell_type": "markdown",
   "id": "b719be58-cd82-47c8-8d72-365e1066aa82",
   "metadata": {},
   "source": [
    "34\n",
    "Создать класс очереди, который будет поддерживать операции добавления элемента в конец очереди и удаления элемента из середины очереди по значению."
   ]
  },
  {
   "cell_type": "code",
   "execution_count": null,
   "id": "c8356736-558f-46f1-a90d-a68d0d931e8e",
   "metadata": {},
   "outputs": [],
   "source": [
    "class Node():\n",
    "    def __init__(self, value, next=None):\n",
    "        self.next = next\n",
    "        self.value = value\n",
    "\n",
    "class Queue():\n",
    "    def __init__(self, value):\n",
    "        self.head = Node(value=value)\n",
    "        self.size = 1\n",
    "\n",
    "    def enqueue(self, item):\n",
    "        if self.size == 0:\n",
    "            return Node(value=item)\n",
    "        tmp = self.head\n",
    "        while tmp.next:\n",
    "            tmp = tmp.next\n",
    "        tmp.next = Node(value=item)\n",
    "        self.size += 1\n",
    "\n",
    "    def dequeue(self):\n",
    "        if self.size <= 0:\n",
    "            print(\"ERROR\")\n",
    "            return\n",
    "        if self.size == 1:\n",
    "            self.head = None\n",
    "            return\n",
    "        self.head = self.head.next\n",
    "        self.size -= 1\n",
    "        return\n",
    "\n",
    "    def peek(self):\n",
    "        return self.head.value\n",
    "\n",
    "    def is_empty(self):\n",
    "        if self.size:\n",
    "            return False\n",
    "        return True\n",
    "\n",
    "    def size(self):\n",
    "        return self.size\n",
    "\n",
    "    def output(self):\n",
    "        tmp = self.head\n",
    "        while tmp:\n",
    "            print(tmp.value, end=\" \")\n",
    "            tmp = tmp.next\n",
    "        print(\"\")\n",
    "\n",
    "    def del_centr(self, item):\n",
    "        tmp = self.head\n",
    "\n",
    "        while tmp.next:\n",
    "            if tmp.next.value == item:\n",
    "                tmp.next = tmp.next.next\n",
    "                return\n",
    "            tmp = tmp.next\n",
    "        print(\"Item not found in queue\")\n",
    "\n",
    "queue = Queue(5)\n",
    "queue.enqueue(4)\n",
    "queue.enqueue(7)\n",
    "queue.dequeue()\n",
    "queue.output()\n",
    "print(queue.size)\n",
    "queue.enqueue(10)\n",
    "queue.enqueue(8)\n",
    "queue.output()\n",
    "queue.del_centr(10)\n",
    "queue.del_centr(10)\n",
    "queue.output()"
   ]
  }
 ],
 "metadata": {
  "kernelspec": {
   "display_name": "Python 3 (ipykernel)",
   "language": "python",
   "name": "python3"
  },
  "language_info": {
   "codemirror_mode": {
    "name": "ipython",
    "version": 3
   },
   "file_extension": ".py",
   "mimetype": "text/x-python",
   "name": "python",
   "nbconvert_exporter": "python",
   "pygments_lexer": "ipython3",
   "version": "3.11.7"
  }
 },
 "nbformat": 4,
 "nbformat_minor": 5
}
