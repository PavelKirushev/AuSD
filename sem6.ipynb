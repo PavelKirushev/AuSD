{
 "cells": [
  {
   "cell_type": "markdown",
   "id": "664db156-23b6-4648-a744-ec77c1479d9b",
   "metadata": {},
   "source": [
    "#Задачи по спискам"
   ]
  },
  {
   "cell_type": "markdown",
   "id": "79d039a4-c5eb-45f4-9bd8-4c4fd35e48d4",
   "metadata": {},
   "source": [
    "1) Создать список из чисел 31, 24, 17 тремя способами: перечисление, на основе другого списка (по сути, создать копию списка), \n",
    "с помощью функции range. Вывести списки на печать. Создать и вывести список, состоящий из полученных списков."
   ]
  },
  {
   "cell_type": "code",
   "execution_count": null,
   "id": "5755a48f-89d9-44e6-95c1-b7abb1b3de8a",
   "metadata": {},
   "outputs": [],
   "source": [
    "list1 = [31, 24, 17]\n",
    "list2 = list(list1)\n",
    "list3 = list(range(31, 16, -7))\n",
    "print(list1, list2, list3)"
   ]
  },
  {
   "cell_type": "markdown",
   "id": "a86931c8-f5f4-426b-bbf7-1c794939d7a8",
   "metadata": {},
   "source": [
    "2.1) Создать список из всех симоволов имеющихся во введенной пользователем строке.\r\n",
    "2.2) Создать список из всех слов имеющихся во введенной пользователем строке.\r\n",
    "2.3) Создать и вывести список из всех цифр, встречающихся в заданной строке."
   ]
  },
  {
   "cell_type": "code",
   "execution_count": null,
   "id": "7cd07856-0e6d-42e2-b80f-07bc20442eca",
   "metadata": {},
   "outputs": [],
   "source": [
    "#2.1\n",
    "s = input()\n",
    "mas = [None] * len(s)\n",
    "for i in range(len(s)):\n",
    "    mas[i] = s[i]\n",
    "print(mas)"
   ]
  },
  {
   "cell_type": "code",
   "execution_count": null,
   "id": "4642a88a-f17c-4e6a-94f6-f13c08348fc1",
   "metadata": {},
   "outputs": [],
   "source": [
    "#2.2\n",
    "s = input()\n",
    "mas = []\n",
    "slovo = ''\n",
    "f = 1\n",
    "i = 0\n",
    "while s[i] == ' ':\n",
    "    i += 1\n",
    "while i != len(s):\n",
    "    if s[i] != ' ':\n",
    "        slovo += s[i]\n",
    "    else:\n",
    "        if slovo != '':\n",
    "            mas.append(slovo)\n",
    "        slovo = ''\n",
    "    i += 1\n",
    "if slovo != '':\n",
    "    mas.append(slovo)\n",
    "print(mas)"
   ]
  },
  {
   "cell_type": "code",
   "execution_count": null,
   "id": "9304b7a1-4eb5-40d6-b410-cf77b8187a82",
   "metadata": {},
   "outputs": [],
   "source": [
    "#2.3\n",
    "s = input()\n",
    "mas = []\n",
    "for i in range(len(s)):\n",
    "    if s[i].isdigit():\n",
    "        mas.append(s[i])\n",
    "print(mas)"
   ]
  },
  {
   "cell_type": "markdown",
   "id": "57758c93-bcea-46ea-9773-5c7a8c33407e",
   "metadata": {},
   "source": [
    "3) Если в заданный список входит слово \"repeat\", а последний элемент - число, то заменить список на столько же копий всех элементов, \n",
    "не считая последних двух (последние два просто добавить). Например, список ['input', 'string', 'repeat', 3] должен быть \n",
    "заменен на ['input', 'string', 'input', 'string', 'input', 'string', 'repeat', 3].\n"
   ]
  },
  {
   "cell_type": "code",
   "execution_count": null,
   "id": "3ceb9ded-1283-41a2-badf-6186fb60ac4c",
   "metadata": {},
   "outputs": [],
   "source": [
    "mas = []\n",
    "slovo = input(\"Enter element or enter one more time: \")\n",
    "while slovo != '':\n",
    "    mas.append(slovo)\n",
    "    slovo = input()\n",
    "array = []\n",
    "f = 0\n",
    "for i in range(len(mas)):\n",
    "    if mas[i] == \"repeat\" and mas[-1].isdigit:\n",
    "        cnt = int(mas[-1])\n",
    "        f = 1\n",
    "        for j in range(cnt):\n",
    "            for m in range(len(mas) - 2):\n",
    "                array.append(mas[m])\n",
    "if f:\n",
    "    array.append(mas[-2])\n",
    "    array.append(mas[-1])\n",
    "print(array)"
   ]
  },
  {
   "cell_type": "markdown",
   "id": "512ec27f-1844-4784-8e92-d16c0714110a",
   "metadata": {},
   "source": [
    "4) Создать список из двух произвольных строк s1 и s2, их длин и результата проверки соблюдения лексикографического порядка (идет ли первая строка раньше второй). В зависимости от параметра output путем обращения к элементам списка выводить либо длины строк (output='lengths', в формате \"Длины строк: 4 и 5\"), либо описание порядка (output='order', в формате \"Строка 'первая' идет ПОСЛЕ строки 'вторая'\")."
   ]
  },
  {
   "cell_type": "code",
   "execution_count": null,
   "id": "7844223b-e9b5-4de4-b29e-67d0b0cf1558",
   "metadata": {},
   "outputs": [],
   "source": [
    "s1 = input()\n",
    "s2 = input()\n",
    "res= [s1, s2, len(s1), len(s2)]\n",
    "if s1 > s2:\n",
    "    res.append('ПОСЛЕ')\n",
    "else:\n",
    "    res.append('ДО')\n",
    "output = input(\"output: \")\n",
    "if output == 'lengths':\n",
    "    print(f\"Длины строк: {len(s1)} и {len(s2)}\")\n",
    "elif output == 'order':\n",
    "    print(f\"Строка '{s1}' идет {res[-1]} строки '{s2}'\")"
   ]
  },
  {
   "cell_type": "markdown",
   "id": "893bcad2-4889-4be3-92eb-49072b185841",
   "metadata": {},
   "source": [
    "5.1) Запросить у пользователя 2 целых числа и сохранить их в переменных max_val, repeat. Создать список из целых чисел со значениями от 1 до max_val включительно повторяющийся repeat раз."
   ]
  },
  {
   "cell_type": "code",
   "execution_count": null,
   "id": "4a3fff32-9f74-45f5-8449-ea1d9675f99b",
   "metadata": {},
   "outputs": [],
   "source": [
    "max_val = int(input(\"Enter max_val: \"))\n",
    "repeat = int(input(\"Enter repeat: \"))\n",
    "mas = []\n",
    "for _ in range(repeat):\n",
    "    for i in range(max_val):\n",
    "        mas.append(i + 1)\n",
    "print(mas)"
   ]
  },
  {
   "cell_type": "markdown",
   "id": "2d7549ac-bb18-43d7-abe3-dfb7295a4704",
   "metadata": {},
   "source": [
    "5.2) На основе списка из 5.1 созданного при max_val = 10 создать его копию (значение repeat заранее неизвестно). В копии с помощью среза удалить 80% элементов из середины. Все элементы исходного списка, которые не сохранены в скопированном списке, умножить на десять"
   ]
  },
  {
   "cell_type": "code",
   "execution_count": null,
   "id": "b994625e-2c19-40d4-b392-a736fd290b32",
   "metadata": {},
   "outputs": [],
   "source": [
    "repeat = int(input(\"Enter repeat: \"))\n",
    "mas = []\n",
    "for _ in range(repeat):\n",
    "    for i in range(10):\n",
    "        mas.append(i + 1)\n",
    "mas1 = list(mas)[0:repeat]\n",
    "mas2 = list(mas)[-repeat:]\n",
    "for i in range(repeat, len(mas) - repeat):\n",
    "    mas[i] *= 10\n",
    "mas1.extend(mas2)\n",
    "print(mas1)\n",
    "print(mas)"
   ]
  },
  {
   "cell_type": "markdown",
   "id": "b0553c74-5694-439a-a94c-2eebb6edf846",
   "metadata": {},
   "source": [
    "6) Из произвольной строки создать список. Вместо каждой буквы \"s\" (без учета регистра), стоящей не на первом и не на последнем месте, вставить в список строку из двойного предыдущего символа и одного следующего. Например, из строки \"test_Stringss\" должен получиться список ['t', 'e', 'eet', 't', '_', '__t', 't', 'r', 'i', 'n', 'g', 'ggs', 's']."
   ]
  },
  {
   "cell_type": "code",
   "execution_count": null,
   "id": "ef494069-b98f-48ad-86e3-d0100896ff96",
   "metadata": {},
   "outputs": [],
   "source": [
    "s = input()\n",
    "mas = []\n",
    "for i in range(len(s)):\n",
    "    if (s[i] == 'S' or s[i] == 's') and i != 0 and i != len(s) - 1:\n",
    "        mas.append(s[i - 1] + s[i - 1] + s[i + 1])\n",
    "        continue\n",
    "    else:\n",
    "        mas.append(s[i])\n",
    "print(mas)"
   ]
  },
  {
   "cell_type": "markdown",
   "id": "cc7ac6b7-5aa3-4116-95ff-051f2b77c516",
   "metadata": {},
   "source": [
    "7)* Организовать заполнение списка заданной длины пользователем через input(). Если на вход подается число (целое или через точку), то записывать в список целое число с округлением вверх. Если \"True\" или \"False\", то как boolean. Иначе - как строку."
   ]
  },
  {
   "cell_type": "code",
   "execution_count": null,
   "id": "168c8f84-669c-45c6-b30e-97e68dfb217c",
   "metadata": {},
   "outputs": [],
   "source": [
    "n = int(input(\"Enter count of elements: \"))\n",
    "mas = [None] * n\n",
    "for i in range(n):\n",
    "    s = input()\n",
    "    if s == \"True\" or s == \"False\":\n",
    "        mas[i] = bool(s)\n",
    "    elif s[0].isdigit():\n",
    "        mas[i] = round(float(s))\n",
    "    else:\n",
    "        mas[i] = s\n",
    "print(mas)"
   ]
  },
  {
   "cell_type": "markdown",
   "id": "9e5ca76c-97bb-4096-8c3d-6fa3d59d2d2b",
   "metadata": {},
   "source": [
    "8)Дивный новый мир:\r\n",
    "Заданы две заранее неизвестные строки в которых слова разделены пробелами. Из двух строк составить одну, в котрой слова из первой и второй строки будут чередоваться при этом порядок слов будет сохранен. Для преобразований использовать списки слов."
   ]
  },
  {
   "cell_type": "code",
   "execution_count": null,
   "id": "6f25d63f-2886-4fd1-a40d-0a96490986e5",
   "metadata": {},
   "outputs": [],
   "source": [
    "mas1 = list(input().split())\n",
    "mas2 = list(input().split())\n",
    "print(mas1, mas2)\n",
    "s = \"\"\n",
    "for i in range(min(len(mas1), len(mas2))):\n",
    "    s += mas1[i]\n",
    "    s += ' '\n",
    "    s += mas2[i]\n",
    "    s += ' '\n",
    "if len(mas1) < len(mas2):\n",
    "    for i in range(min(len(mas1), len(mas2)), max(len(mas1), len(mas2))):\n",
    "        s += mas2[i]\n",
    "        s += ' '\n",
    "else:\n",
    "    for i in range(min(len(mas1), len(mas2)), max(len(mas1), len(mas2))):\n",
    "        s += mas1[i]\n",
    "        s += ' '\n",
    "s = s[:-1:]\n",
    "print(s)"
   ]
  },
  {
   "cell_type": "markdown",
   "id": "d508162d-25eb-4aa9-9be3-2ac77719cf4f",
   "metadata": {},
   "source": [
    "9) Решить здачу 8 используя функцию zip."
   ]
  },
  {
   "cell_type": "code",
   "execution_count": null,
   "id": "84d40ba9-1a0d-4b6b-b0f9-d8d7eb3f79e4",
   "metadata": {},
   "outputs": [],
   "source": [
    "mas1 = list(input().split())\n",
    "mas2 = list(input().split())\n",
    "a = list(zip(mas1, mas2))\n",
    "s = \"\"\n",
    "for i in range(len(a)):\n",
    "    s += a[i][0]\n",
    "    s += ' '\n",
    "    s += a[i][1]\n",
    "    s += ' '\n",
    "print(s)"
   ]
  },
  {
   "cell_type": "markdown",
   "id": "33458027-551f-4045-8a47-98a372c76bca",
   "metadata": {},
   "source": [
    "10) Выполнить циклический сдвиг слов в произвольной строке (слова разделены пробелами) на заднное пользователем число слов. Решить с помощью списков слов."
   ]
  },
  {
   "cell_type": "code",
   "execution_count": null,
   "id": "7865ee39-be9f-4dd2-8f44-09b212991531",
   "metadata": {},
   "outputs": [],
   "source": [
    "mas = list(input().split())\n",
    "n = int(input())\n",
    "mas1 = list(mas[0:n])\n",
    "mas2 = list(mas[n:])\n",
    "mas2.extend(mas1)\n",
    "print(\" \".join(str(x) for x in mas2))"
   ]
  },
  {
   "cell_type": "markdown",
   "id": "496b8599-309b-42ef-a1e1-f41eecfc0c8d",
   "metadata": {},
   "source": [
    "11) В списке целых чисел из диапозона от 1 до 20 заменить все числа не являющиеся простыми на составляющие их простые множители (которые включаются в виде отдельных элементов списка на место исключаемого числа). Каратные простые множетели добавлять количество раз составляющее их кратность в исходном числе."
   ]
  },
  {
   "cell_type": "code",
   "execution_count": null,
   "id": "ce00049d-4a81-4140-bdbe-3b779364540d",
   "metadata": {},
   "outputs": [],
   "source": [
    "mas = list(map(int, input().split()))\n",
    "i = 0\n",
    "while i < len(mas):\n",
    "    j = 2\n",
    "    while j != mas[i] // 2 + 1 and mas[i] != 0 and mas[i] != 1:\n",
    "        if mas[i] % j == 0:\n",
    "            if mas[i] != j:\n",
    "                mas[i] //= j\n",
    "                mas.insert(i, j)\n",
    "                break\n",
    "            i += 1\n",
    "        j += 1\n",
    "    i += 1\n",
    "print(mas)"
   ]
  },
  {
   "cell_type": "markdown",
   "id": "ca97cd6d-508e-4c64-a2a2-1b7e7fc4a7dc",
   "metadata": {},
   "source": [
    "12) В списке, состоящем из чисел найти значение меньше или равно которому только одно значения из списка."
   ]
  },
  {
   "cell_type": "code",
   "execution_count": null,
   "id": "6d4f32ea-6f4d-47b8-87bd-2fa96d9364ce",
   "metadata": {},
   "outputs": [],
   "source": [
    "mas = list(map(int, input().split()))\n",
    "m1 = mas[0]\n",
    "m2 = m1 + 1\n",
    "for i in range(1, len(mas)):\n",
    "    if mas[i] < m2:\n",
    "        if mas[i] < m1:\n",
    "            m1, m2 = mas[i], m1\n",
    "        else:\n",
    "            m2 = mas[i]\n",
    "cnt = 0\n",
    "for i in range(len(mas)):\n",
    "    if mas[i] <= m2:\n",
    "        cnt += 1\n",
    "if cnt == 2:\n",
    "    print(m2)\n",
    "else:\n",
    "    print(\"None\")"
   ]
  },
  {
   "cell_type": "markdown",
   "id": "a1c3a95b-a052-4b09-a220-0e856708e7a5",
   "metadata": {},
   "source": [
    "13) Найти индекс в списке для значения, найденного в задаче 12."
   ]
  },
  {
   "cell_type": "code",
   "execution_count": null,
   "id": "e4834540-2986-4033-8cab-80f48360897b",
   "metadata": {},
   "outputs": [],
   "source": [
    "mas = list(map(int, input().split()))\n",
    "m1 = mas[0]\n",
    "m2 = m1 + 1\n",
    "ind1 = 0\n",
    "ind2 = 1\n",
    "for i in range(1, len(mas)):\n",
    "    if mas[i] < m2:\n",
    "        if mas[i] < m1:\n",
    "            m1, m2 = mas[i], m1\n",
    "            ind1, ind2 = i, ind1\n",
    "        else:\n",
    "            m2 = mas[i]\n",
    "            ind2 = i\n",
    "cnt = 0\n",
    "for i in range(len(mas)):\n",
    "    if mas[i] <= m2:\n",
    "        cnt += 1\n",
    "if cnt == 2:\n",
    "    print(ind2)\n",
    "else:\n",
    "    print(\"None\")"
   ]
  },
  {
   "cell_type": "markdown",
   "id": "5edd7937-f988-46f1-95ae-1e086a60d9ca",
   "metadata": {},
   "source": [
    "14) Найти индекс второго с конца вхождения значения 1 в список из целых чисел."
   ]
  },
  {
   "cell_type": "code",
   "execution_count": null,
   "id": "e74304b5-651e-4585-b010-4ba357bc2219",
   "metadata": {},
   "outputs": [],
   "source": [
    "mas = list(map(int, input().split()))\n",
    "prev = 0\n",
    "next = 0\n",
    "for i in range(len(mas)):\n",
    "    if mas[i] == 1:\n",
    "        prev = next\n",
    "        next = i\n",
    "print(prev)"
   ]
  },
  {
   "cell_type": "markdown",
   "id": "c3083c2e-9684-4453-b744-9e0ad9480ef7",
   "metadata": {},
   "source": [
    "15) Реализовать функцию умножения двух матриц, записанных как список списков. Проверить на умножении матрицы на единичную матрицу."
   ]
  },
  {
   "cell_type": "code",
   "execution_count": null,
   "id": "a4374125-5172-40cd-8ed5-09ae0ef96b13",
   "metadata": {},
   "outputs": [],
   "source": [
    "def umn(mat1, mat2):\n",
    "    if len(mat1[0]) != len(mat2):\n",
    "        print(\"Error\")\n",
    "        return None\n",
    "    mat = [[0 for _ in range(len(mat2[0]))] for _ in range(len(mat1))]\n",
    "    for i in range(len(mat1)):\n",
    "        for j in range(len(mat2[0])):\n",
    "            s = 0\n",
    "            for k in range(len(mat1[0])):\n",
    "                s += (mat1[i][k] * mat2[k][j])\n",
    "            mat[i][j] = s\n",
    "    return mat\n",
    "n = int(input())\n",
    "m = int(input())\n",
    "mat1 = [None] * n\n",
    "mat2 = [None] * m\n",
    "for i in range(n):\n",
    "    mat1[i] = list(map(int, input().split()))\n",
    "for j in range(m):\n",
    "    mat2[j] = list(map(int, input().split()))\n",
    "mat = umn(mat1, mat2)\n",
    "print(mat)"
   ]
  },
  {
   "cell_type": "markdown",
   "id": "74c79004-485d-4190-8cc9-6c1c5d085e57",
   "metadata": {},
   "source": [
    "16) Создать копию матрицы, записанной в виде вложенных списков, так что при изменении элементов исходной матрицы, скопированная матрица меняться не будет."
   ]
  },
  {
   "cell_type": "code",
   "execution_count": null,
   "id": "bfe1954b-c375-4481-b6c4-71d46582ec80",
   "metadata": {},
   "outputs": [],
   "source": [
    "n = int(input())\n",
    "mat1 = [None] * n\n",
    "for i in range(n):\n",
    "    mat1[i] = list(map(int, input().split()))\n",
    "mat = [[0 for _ in range(len(mat1[0]))] for _ in range(len(mat1))]\n",
    "for i in range(len(mat1)):\n",
    "    for j in range(len(mat1[0])):\n",
    "        mat[i][j] = mat1[i][j]\n",
    "print(mat)\n",
    "mat1[0][1] *= 100\n",
    "print(mat)"
   ]
  },
  {
   "cell_type": "markdown",
   "id": "a13968c1-dd90-4653-ae4d-c89edfe4cf04",
   "metadata": {},
   "source": [
    "17) Осортировать слова в строке (с пробелом в качестве разделителя) в лексикографическом порядке.\n",
    "    Пример: 'дыня абрикос яблоко арбуз' -> 'абрикос арбуз дыня яблоко'"
   ]
  },
  {
   "cell_type": "code",
   "execution_count": null,
   "id": "3e22c91c-120c-418b-a25e-f18bd62e4147",
   "metadata": {},
   "outputs": [],
   "source": [
    "def sort(mas):\n",
    "    for i in range(len(mas) - 1):\n",
    "        for j in range(len(mas) - 1 - i):\n",
    "            if mas[j] > mas[j + 1]:\n",
    "                mas[j], mas[j + 1] = mas[j + 1], mas[j]\n",
    "\n",
    "mas = list(map(str, input().split()))\n",
    "sort(mas)\n",
    "print(mas)"
   ]
  },
  {
   "cell_type": "markdown",
   "id": "3af2d359-a225-407f-89d5-c201d69f26e6",
   "metadata": {},
   "source": [
    "18) Имеется переменная lsls содержащая список списков. Заранее неизвестно, сколько в переменной списков и какой они длинны (их длинны в общем случае различны). Из этих списков составить список, содержащий поорчедно элементы каждого из вложенных списков, при этом, порядок этих элементов сохраняется. Процедура создания списка останавливается когда хотя бы в одном из исходных вложенных списков будут использованные все элементы. Кроме составленного списка получить список из всех элементов не вошедших в составленный список.\n",
    "    Пример: lsls=[[1,2,3],['a', 'b'], [30, 40, 50, 60]] -> [1, 'a', 30, 2, 'b', 40], [3, 50, 60]"
   ]
  },
  {
   "cell_type": "code",
   "execution_count": null,
   "id": "5a15d3e0-3d06-433d-8d4a-ae0f95bd6dd8",
   "metadata": {},
   "outputs": [],
   "source": [
    "n = int(input())\n",
    "lsls = [None] * n\n",
    "for i in range(n):\n",
    "    lsls[i] = list(input().split())\n",
    "mas = [None] * 2\n",
    "min_len = len(lsls[0])\n",
    "for i in range(1, n):\n",
    "    if len(lsls[i]) < min_len:\n",
    "        min_len = len(lsls[i])\n",
    "mas1 = []\n",
    "for i in range(min_len):\n",
    "    for j in range(n):\n",
    "        mas1.append(lsls[j][i])\n",
    "mas[0] = mas1\n",
    "mas2 = []\n",
    "for i in range(n):\n",
    "    mas2.extend(lsls[i][min_len:])\n",
    "mas[1] = mas2\n",
    "print(mas)"
   ]
  }
 ],
 "metadata": {
  "kernelspec": {
   "display_name": "Python 3 (ipykernel)",
   "language": "python",
   "name": "python3"
  },
  "language_info": {
   "codemirror_mode": {
    "name": "ipython",
    "version": 3
   },
   "file_extension": ".py",
   "mimetype": "text/x-python",
   "name": "python",
   "nbconvert_exporter": "python",
   "pygments_lexer": "ipython3",
   "version": "3.11.7"
  }
 },
 "nbformat": 4,
 "nbformat_minor": 5
}
