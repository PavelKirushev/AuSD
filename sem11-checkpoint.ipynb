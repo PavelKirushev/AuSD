{
 "cells": [
  {
   "cell_type": "markdown",
   "id": "7e2ddb35-2580-43d3-9b21-e9cc205cd7c6",
   "metadata": {},
   "source": [
    "1) Создать скрипт для анализа тестовых файлов - сбора статистики упоминания слов. Аргументом командной строки является имя файла, который нужно проанализировать. Второй аргумент - количество слов, которые нужно выводить на экран (если аргумент не указан, то выводим статистику по 100 словам, статистика выводится в порядке убывания частоты слов, по каждому слову на экран выводится строка в формате \"<слово> <частота>\"). Если второй аргумент не целое число, то его рассматриваем как имя файла, в который в формате CSV с заголовком сохраняем статистику слов (Первый столбец - слово, второй столбце - частота)."
   ]
  },
  {
   "cell_type": "code",
   "execution_count": 2,
   "id": "4f1c63ec-5031-484a-bc42-c18a94766eaa",
   "metadata": {},
   "outputs": [
    {
     "name": "stdin",
     "output_type": "stream",
     "text": [
      "Enter filename and word count:  test1.txt 5\n"
     ]
    },
    {
     "name": "stdout",
     "output_type": "stream",
     "text": [
      "sit 5\n",
      "ut 5\n",
      "voluptatem 5\n",
      "quia 5\n",
      "qui 5\n"
     ]
    }
   ],
   "source": [
    "import re\n",
    "import csv\n",
    "\n",
    "def read(filename):\n",
    "    with open(filename, 'r') as file:\n",
    "        text = file.read().lower()#читаем файл, каждую заглавную букву превращаем в строчную\n",
    "        words = re.findall(r'\\b\\w+\\b', text)#все слова в строке text(возвращает список слов)\n",
    "        word_counts = {}\n",
    "        for i in range(len(words)):\n",
    "            if words[i] not in word_counts:\n",
    "                word_counts[words[i]] = 1\n",
    "            if words[i] in word_counts:\n",
    "                word_counts[words[i]] += 1\n",
    "        word_cnt = sorted(word_counts.items(), key=lambda item: item[1], reverse=True)\n",
    "        return word_cnt\n",
    "\n",
    "def write(filename, korteg):\n",
    "    with open(filename, \"a\", newline='') as file:#newline-избавляет нас от лишних пустых строк\n",
    "        for i in range(len(korteg)):\n",
    "            writer = csv.writer(file)#создаем объект для записи данных\n",
    "            writer.writerow(#записываем данные\n",
    "                [korteg[i][0], korteg[i][1]]\n",
    "            )\n",
    "\n",
    "mas = list(map(str, input(\"Enter filename and word count: \").split()))\n",
    "s = mas[0]\n",
    "korteg = read(s)\n",
    "if len(mas) > 1:\n",
    "    cnt = float(mas[1])\n",
    "else:\n",
    "    cnt = 100\n",
    "if int(cnt) != cnt:\n",
    "    write(str(cnt) + \".csv\", korteg)\n",
    "else:\n",
    "    for i in range(int(cnt)):\n",
    "        print(f\"{korteg[i][0]} {korteg[i][1]}\")"
   ]
  },
  {
   "cell_type": "markdown",
   "id": "50566434-99d2-48b0-bd13-38feef2ff8cc",
   "metadata": {},
   "source": [
    "2) Создать скрипт, которому в командной строке передаются имена файлов. В файлах в формате CSV с заголовком содержится информация о частоте слов: первый столбец - слово, второй столбце - частота. Выполнить агрегацию информации о частоте слов из всех переданных файлов (т.е. рассчитать суммарную частоту для всех упомянутых слов). Результат сохранить в файл с именем, которое введет пользователь в ответ на соответствующий запрос."
   ]
  },
  {
   "cell_type": "code",
   "execution_count": 3,
   "id": "72288609-eb79-44b6-a79a-008db30fe8bf",
   "metadata": {},
   "outputs": [
    {
     "name": "stdin",
     "output_type": "stream",
     "text": [
      "Enter filename:  5.1.csv\n",
      "Enter filename:  5.3.csv\n",
      "Enter filename:  \n",
      "Enter filename where you want write data:  test.txt\n"
     ]
    }
   ],
   "source": [
    "import re\n",
    "import csv\n",
    "\n",
    "def read(filename, word_counts):\n",
    "    try:\n",
    "        with open(filename, 'r') as file:\n",
    "            text = file.readlines()\n",
    "            for i in range(len(text)):\n",
    "                mas = text[i].split(',')\n",
    "                if mas[0] not in word_counts:\n",
    "                    word_counts[mas[0]] = int(mas[1])\n",
    "                else:\n",
    "                    word_counts[mas[0]] += int(mas[1])\n",
    "    except FileNotFoundError:\n",
    "        print(\"File not found\")\n",
    "        return\n",
    "\n",
    "def write(filename, korteg):\n",
    "    with open(filename, \"a\", newline='') as file:\n",
    "        for s, v in korteg.items():\n",
    "            writer = csv.writer(file)\n",
    "            writer.writerow([s, v])\n",
    "\n",
    "korteg = {}\n",
    "while 1:\n",
    "    s = input(\"Enter filename: \")\n",
    "    if s == \"\":\n",
    "        break\n",
    "    read(s, korteg)\n",
    "s1 = input(\"Enter filename where you want write data: \")\n",
    "write(s1 + \".csv\", korteg)"
   ]
  },
  {
   "cell_type": "markdown",
   "id": "517f6d00-79bb-451b-9be9-9b010c233ea7",
   "metadata": {},
   "source": [
    "2.1) Скрипт должен адекватно реагировать на ситуацию отсутствия файлов и другие проблемы с вводом/выводом.\n",
    "2.2) Оформить модуль с функциями, которые используются в задании 1 и 2."
   ]
  },
  {
   "cell_type": "code",
   "execution_count": null,
   "id": "ee28cb07-4246-49cc-875f-05021b058f4d",
   "metadata": {},
   "outputs": [],
   "source": [
    "import csv\n",
    "import re\n",
    "\n",
    "def read1(filename, word_counts):\n",
    "    try:\n",
    "        with open(filename, 'r') as file:\n",
    "            text = file.readlines()\n",
    "            for i in range(len(text)):\n",
    "                mas = text[i].split(',')\n",
    "                if mas[0] not in word_counts:\n",
    "                    word_counts[mas[0]] = int(mas[1])\n",
    "                else:\n",
    "                    word_counts[mas[0]] += int(mas[1])\n",
    "    except FileNotFoundError:\n",
    "        print(\"File not found\")\n",
    "        return\n",
    "\n",
    "def write1(filename, korteg):\n",
    "    with open(filename, \"a\", newline='') as file:\n",
    "        for s, v in korteg.items():\n",
    "            writer = csv.writer(file)\n",
    "            writer.writerow([s, v])\n",
    "\n",
    "def read(filename):\n",
    "    try:\n",
    "        with open(filename, 'r') as file:\n",
    "            text = file.read().lower()#читаем файл, каждую заглавную букву превращаем в строчную\n",
    "            words = re.findall(r'\\b\\w+\\b', text)#все слова в строке text(возвращает список слов)\n",
    "            word_counts = {}\n",
    "            for i in range(len(words)):\n",
    "                if words[i] not in word_counts:\n",
    "                    word_counts[words[i]] = 1\n",
    "                if words[i] in word_counts:\n",
    "                    word_counts[words[i]] += 1\n",
    "            word_cnt = sorted(word_counts.items(), key=lambda item: item[1], reverse=True)\n",
    "            return word_cnt\n",
    "    except FileNotFoundError:\n",
    "        print(\"File not found\")\n",
    "        return\n",
    "\n",
    "def write(filename, korteg):\n",
    "    with open(filename, \"a\", newline='') as file:#newline-избавляет нас от лишних пустых строк\n",
    "        for i in range(len(korteg)):\n",
    "            writer = csv.writer(file)#создаем объект для записи данных\n",
    "            writer.writerow(#записываем данные\n",
    "                [korteg[i][0], korteg[i][1]]\n",
    "            )\n",
    "\n",
    "korteg = {}\n",
    "korteg1 = {}\n",
    "cnt = 0\n",
    "while 1:\n",
    "    mas = list(map(str, input(\"Enter filename: \").split()))\n",
    "    if len(mas) == 0:\n",
    "        break\n",
    "    s = mas[0]\n",
    "    if len(mas) == 1:\n",
    "        read1(s, korteg1)\n",
    "    else:\n",
    "        korteg = read(s)\n",
    "        cnt = float(mas[1])\n",
    "        if int(cnt) == cnt:\n",
    "            for i in range(int(cnt)):\n",
    "                print(f\"{korteg[i][0]} {korteg[i][1]}\")\n",
    "        else:\n",
    "            write(str(cnt) + \".csv\", korteg)\n",
    "s1 = input(\"Enter filename where you want write data: \")\n",
    "write1(s1 + \".csv\", korteg1)"
   ]
  },
  {
   "cell_type": "markdown",
   "id": "619d2eb4-cbca-4abd-a259-0bb44f98399b",
   "metadata": {},
   "source": [
    "3.1) Написать программу, которая запускается из консоли и считает сумму переданных в неё чисел"
   ]
  },
  {
   "cell_type": "code",
   "execution_count": null,
   "id": "7d21a8a1-c630-41cb-8d30-1f8330e07695",
   "metadata": {},
   "outputs": [],
   "source": [
    "mas = list(map(int, input(\"Enter numbers separated by space: \").split()))\n",
    "print(sum(mas))"
   ]
  },
  {
   "cell_type": "markdown",
   "id": "6b2acf4e-e43d-438b-8fff-70e786c9fa1d",
   "metadata": {},
   "source": [
    "3.2) Добавить в эту программу произведение\n",
    "3.3) По переданному параметру считать либо сумму, либо произведение"
   ]
  },
  {
   "cell_type": "code",
   "execution_count": null,
   "id": "120a226b-2941-45c8-a13b-c3209fbec24f",
   "metadata": {},
   "outputs": [],
   "source": [
    "def menu(mas):\n",
    "    print(\"What you want?\\n 1.Sum\\n 2.Product\")\n",
    "    s = input()\n",
    "    while s != '1' and s != '2':\n",
    "        s = input(\"Enter 1 or 2!: \")\n",
    "    if s == '1':\n",
    "        return sum(mas)\n",
    "    else:\n",
    "        pr = 1\n",
    "        for i in mas:\n",
    "            pr *= i\n",
    "        return pr\n",
    "\n",
    "mas = list(map(int, input(\"Enter numbers separated by space: \").split()))\n",
    "print(menu(mas))"
   ]
  },
  {
   "cell_type": "markdown",
   "id": "e5fc9c1b-9601-4d5c-b987-d96ab3ef9739",
   "metadata": {},
   "source": [
    "3.4) Реализовать модуль calculate.py, содержащий набор функций для работы с целыми числами, записанными как на русском языке (например: тридцать восемь), так и в виде простых арифметических выражений (например: 2 + 3)."
   ]
  },
  {
   "cell_type": "code",
   "execution_count": null,
   "id": "b8c4271e-5386-408c-9ac5-05de02bc746b",
   "metadata": {},
   "outputs": [],
   "source": [
    "d = {\"ноль\": 0, \"один\": 1, \"два\": 2, \"три\": 3, \"четыре\": 4, \"пять\": 5, \"шесть\": 6, \"семь\": 7, \"восемь\": 8, \"девять\": 9,\n",
    "     \"десять\": 10, \"одиннадцать\": 11, \"двенадцать\": 12, \"тринадцать\": 13, \"четырнадцать\": 14, \"пятнадцать\": 15, \"шестнадцать\": 16, \"семнадцать\": 17, \"восемнадцать\": 18, \"девятнадцать\": 19,\n",
    "     \"двадцать\": 20, \"тридцать\": 30, \"сорок\":40, \"пятьдесят\": 50, \"шестьдесят\": 60, \"семьдесят\": 70, \"восемьдесят\": 80, \"девяносто\": 90}\n",
    "def int_from_str(s):\n",
    "    mas = list(map(str, s.split()))\n",
    "    n = 0\n",
    "    if len(mas) == 1:\n",
    "        n = d[mas[0]]\n",
    "    else:\n",
    "        n = d[mas[0]]\n",
    "        n += d[mas[1]]\n",
    "    return n\n",
    "\n",
    "def get(d, value):\n",
    "    for k, v in d.items():\n",
    "        if v == value:\n",
    "            return k\n",
    "\n",
    "def calculate_str(mas):\n",
    "    i = 0\n",
    "    ch1 = \"\"\n",
    "    ch2 = \"\"\n",
    "    while 1:\n",
    "        ch1 += mas[i]\n",
    "        i += 1\n",
    "        if mas[i] == \"плюс\" or mas[i] == \"минус\" or mas[i] == \"умножить\":\n",
    "            oper = mas[i]\n",
    "            i += 1\n",
    "            break\n",
    "        else:\n",
    "            ch1 += \" \"\n",
    "    while 1:\n",
    "        ch2 += mas[i]\n",
    "        i += 1\n",
    "        if i != len(mas):\n",
    "            ch2 += \" \"\n",
    "        else:\n",
    "            break\n",
    "    int_ch1 = int(int_from_str(ch1))\n",
    "    int_ch2 = int(int_from_str(ch2))\n",
    "    if oper == \"плюс\":\n",
    "        return int_ch1 + int_ch2\n",
    "    elif oper == \"минус\":\n",
    "        return int_ch1 - int_ch2\n",
    "    else:\n",
    "        return int_ch1 * int_ch1\n",
    "\n",
    "def calculate_int(mas):\n",
    "    int_ch1 = int(mas[0])\n",
    "    oper = mas[1]\n",
    "    int_ch2 = int(mas[2])\n",
    "    if oper == '+':\n",
    "        return int_ch1 + int_ch2\n",
    "    elif oper == '-':\n",
    "        return int_ch1 - int_ch2\n",
    "    elif oper == '*':\n",
    "        return int_ch1 * int_ch2\n",
    "    else:\n",
    "        print(\"Error\")\n",
    "        return\n",
    "s = input()\n",
    "mas = list(map(str, s.split()))\n",
    "s1 = 0\n",
    "s2 = \"\"\n",
    "if mas[0].isdigit():\n",
    "    print(calculate_int(mas))\n",
    "else:\n",
    "    print(calculate_str(mas))"
   ]
  }
 ],
 "metadata": {
  "kernelspec": {
   "display_name": "Python 3 (ipykernel)",
   "language": "python",
   "name": "python3"
  },
  "language_info": {
   "codemirror_mode": {
    "name": "ipython",
    "version": 3
   },
   "file_extension": ".py",
   "mimetype": "text/x-python",
   "name": "python",
   "nbconvert_exporter": "python",
   "pygments_lexer": "ipython3",
   "version": "3.11.7"
  }
 },
 "nbformat": 4,
 "nbformat_minor": 5
}
