{
 "cells": [
  {
   "cell_type": "markdown",
   "id": "3ac06ecd-d4e6-43c0-97ec-af4b3acb7fa5",
   "metadata": {},
   "source": [
    "а) Создать класс «Продукт» с полями «Название», «Цена», «Количество» и «Срок годности». Создать хеш-таблицу для хранения объектов класса «Продукт» по ключу — названию продукта."
   ]
  },
  {
   "cell_type": "code",
   "execution_count": 15,
   "id": "bfe544b7-6561-4c66-a0a4-f2d0c570fae6",
   "metadata": {},
   "outputs": [
    {
     "name": "stdout",
     "output_type": "stream",
     "text": [
      "Orange 1.0 200 2022-10-31\n",
      "Banana 2.0 150 2022-11-30\n"
     ]
    }
   ],
   "source": [
    "class Product:\n",
    "    def __init__(self, name, price, quantity, date):\n",
    "        self.name = name\n",
    "        self.price = price\n",
    "        self.quantity = quantity\n",
    "        self.date = date\n",
    "\n",
    "    def output(self):\n",
    "        print(self.name, self.price, self.quantity, self.date)\n",
    "\n",
    "hash_table = {}\n",
    "\n",
    "hash_table[100] = Product(\"Apple\", 1.5, 100, \"2022-12-31\")\n",
    "hash_table[101] = Product(\"Banana\", 2.0, 150, \"2022-11-30\")\n",
    "hash_table[102] = Product(\"Orange\", 1.0, 200, \"2022-10-31\")\n",
    "\n",
    "hash_table[102].output()\n",
    "hash_table[101].output()"
   ]
  },
  {
   "cell_type": "markdown",
   "id": "880213b5-bd80-497d-b261-ede7a2b7a8d7",
   "metadata": {},
   "source": [
    "б) Написать функцию для нахождения наиболее часто встречающегося ключа в хеш-таблице."
   ]
  },
  {
   "cell_type": "code",
   "execution_count": 20,
   "id": "f2a60172-9a6f-4c53-94fc-98fad938fe67",
   "metadata": {},
   "outputs": [
    {
     "name": "stdout",
     "output_type": "stream",
     "text": [
      "Apple 1.5 100 2022-12-31\n",
      "Banana 2.0 150 2022-11-30\n",
      "Orange 1.0 200 2022-10-31\n",
      "Apple 2.5 222 2022-11-15\n",
      "\n",
      "Apple\n"
     ]
    }
   ],
   "source": [
    "def most_frequent_key(hash_table):\n",
    "    key_counts = {}\n",
    "    for key, value in hash_table.items():\n",
    "        if value.name not in key_counts:\n",
    "            key_counts[value.name] = 0\n",
    "        key_counts[value.name] += 1\n",
    "    most_frequent_key = max(key_counts, key=key_counts.get)\n",
    "\n",
    "    return most_frequent_key\n",
    "\n",
    "\n",
    "# Пример использования функции\n",
    "product_hash_table = {\n",
    "    100: Product(\"Apple\", 1.5, 100, \"2022-12-31\"),\n",
    "    101: Product(\"Banana\", 2.0, 150, \"2022-11-30\"),\n",
    "    102: Product(\"Orange\", 1.0, 200, \"2022-10-31\"),\n",
    "    103: Product(\"Apple\", 2.5, 222, \"2022-11-15\")  # Повторяющийся ключ\n",
    "}\n",
    "for key, value in product_hash_table.items():\n",
    "    value.output()\n",
    "print(\"\\n\" + most_frequent_key(product_hash_table))  # Выведет: Apple"
   ]
  },
  {
   "cell_type": "markdown",
   "id": "fd4d2a50-ca01-4281-a65d-263fc077b65c",
   "metadata": {},
   "source": [
    "в) Реализуйте хеш-таблицу для хранения информации о заказах в ресторане. Ключом является номер заказа, значение — объект, содержащий информацию о заказе (список блюд, стоимость заказа, адрес доставки и т.д.). Используйте метод разрешения коллизий методом цепочек и реализуйте возможность поиска элементов в таблице."
   ]
  },
  {
   "cell_type": "code",
   "execution_count": null,
   "id": "c9e4ae42-eb90-43bb-b8bc-72193e596839",
   "metadata": {},
   "outputs": [],
   "source": []
  }
 ],
 "metadata": {
  "kernelspec": {
   "display_name": "Python 3 (ipykernel)",
   "language": "python",
   "name": "python3"
  },
  "language_info": {
   "codemirror_mode": {
    "name": "ipython",
    "version": 3
   },
   "file_extension": ".py",
   "mimetype": "text/x-python",
   "name": "python",
   "nbconvert_exporter": "python",
   "pygments_lexer": "ipython3",
   "version": "3.11.7"
  }
 },
 "nbformat": 4,
 "nbformat_minor": 5
}
