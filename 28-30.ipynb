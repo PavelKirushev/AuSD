{
 "cells": [
  {
   "cell_type": "markdown",
   "id": "86834310-cd81-42e2-9a7b-fdb4ebd0e8c9",
   "metadata": {},
   "source": [
    "28\n",
    "а) Найти пересечение двух заданных списков с помощью лямбда- функции. Пример: [1, 2, 3, 5, 7, 8, 9, 10], [1, 2, 4, 8, 9] → [1, 2, 8, 9].\n",
    "б) Найти список с максимальной и минимальной длиной, используя лямбда-функцию. Пример: [[0], [1, 3], [5, 7], [9, 11], [13, 15, 17]] → (3, [13, 15, 17]), (1, [0]).\n",
    "в) Найти вложенные элементы списков, которые присутствуют в другом списке с помощью лямбда-функции. Пример: [1, 2, 3, 4, 5, 6, 7, 8, 9, 10, 11, 12, 13, 14], [[12, 18, 23, 25, 45], [7, 11, 19, 24, 28], [1, 5, 8, 18, 15, 16]] → [[12], [7, 11], [1, 5, 8]]."
   ]
  },
  {
   "cell_type": "code",
   "execution_count": 2,
   "id": "83964ed1-baf2-4bc9-9d20-ef7227dde372",
   "metadata": {},
   "outputs": [
    {
     "name": "stdin",
     "output_type": "stream",
     "text": [
      " 1 2 3 4 5\n",
      " 3 4 5 6 7\n"
     ]
    },
    {
     "name": "stdout",
     "output_type": "stream",
     "text": [
      "[3, 4, 5]\n"
     ]
    }
   ],
   "source": [
    "#пункт а\n",
    "mas1 = list(map(int, input().split()))\n",
    "mas2 = list(map(int, input().split()))\n",
    "mas3 = list(filter(lambda x: x in mas1, mas2))\n",
    "print(mas3)"
   ]
  },
  {
   "cell_type": "code",
   "execution_count": 1,
   "id": "8471a878-af71-4a0c-8214-eb5a0c590a06",
   "metadata": {},
   "outputs": [
    {
     "name": "stdin",
     "output_type": "stream",
     "text": [
      " 5\n",
      " 1 2 3 \n",
      " 1\n",
      " 1 2 3 4 5\n",
      " 1 2\n",
      " 1 2 3\n"
     ]
    },
    {
     "name": "stdout",
     "output_type": "stream",
     "text": [
      "Max\n",
      "5 [1, 2, 3, 4, 5]\n",
      "Min\n",
      "1 [1]\n"
     ]
    }
   ],
   "source": [
    "#пункт б\n",
    "n = int(input())\n",
    "mas1 = []\n",
    "for i in range(n):\n",
    "    mas1.append(list(map(int, input().split())))\n",
    "maxim = max(len(i) for i in mas1)\n",
    "minim = min(len(i) for i in mas1)\n",
    "mas_max = list(filter(lambda x: len(x) == maxim, mas1))\n",
    "mas_min = list(filter(lambda x: len(x) == minim, mas1))\n",
    "print(\"Max\")\n",
    "for i in mas_max:\n",
    "    print(len(i), i)\n",
    "print(\"Min\")\n",
    "for i in mas_min:\n",
    "    print(len(i), i)"
   ]
  },
  {
   "cell_type": "code",
   "execution_count": 2,
   "id": "7680a7d8-2c5e-41e9-8c9f-6eccbb00d316",
   "metadata": {},
   "outputs": [
    {
     "name": "stdin",
     "output_type": "stream",
     "text": [
      " 1 2 3 4 5 6 7 8 9 10 11 12 13 14\n",
      " 3\n",
      " 12 18 23 25 45\n",
      " 7 11 19 24 28\n",
      " 1 5 8 18 15 16\n"
     ]
    },
    {
     "name": "stdout",
     "output_type": "stream",
     "text": [
      "[[12], [7, 11], [1, 5, 8]]\n"
     ]
    }
   ],
   "source": [
    "#пункт в\n",
    "arr = list(map(int, input().split()))\n",
    "n = int(input())\n",
    "mas = []\n",
    "for _ in range(n):\n",
    "    mas.append(list(map(int, input().split())))\n",
    "mas1 = []\n",
    "for i in range(n):\n",
    "    mas1.append(list(filter(lambda x: x in arr, mas[i])))\n",
    "print(mas1)"
   ]
  },
  {
   "cell_type": "markdown",
   "id": "7cbaed09-d9ec-4e43-80f6-c1aaefcc3bc9",
   "metadata": {},
   "source": [
    "29\n",
    "а) Напишите программу для подсчета пар одинаковых значений в двух заданных списках. Используйте функцию map(). Пример: [1, 2, 3, 4, 5, 6, 7, 8], [2, 2, 3, 1, 2, 6, 7, 9] → 4.\r\n",
    "б) Сгенерировать список целых чисел. С помощью функции filter() выбрать из списка все числа кратные заданному числу и упорядочить их по убыванию. Используя функцию reduce(), найти их сумму."
   ]
  },
  {
   "cell_type": "code",
   "execution_count": 7,
   "id": "95a5fcc3-6546-43f6-839a-85a3f81d2a0d",
   "metadata": {},
   "outputs": [
    {
     "name": "stdin",
     "output_type": "stream",
     "text": [
      " 1 2 3 4 5 6 7 8\n",
      " 2 2 3 1 2 6 7 9\n"
     ]
    },
    {
     "name": "stdout",
     "output_type": "stream",
     "text": [
      "4\n"
     ]
    }
   ],
   "source": [
    "#пункт а\n",
    "mas1 = list(map(int, input().split()))\n",
    "mas2 = list(map(int, input().split()))\n",
    "print(sum(map(lambda x, y: x == y, mas1, mas2)))"
   ]
  },
  {
   "cell_type": "code",
   "execution_count": 8,
   "id": "e8f2695c-0a5b-4330-bb0f-674f46b7c253",
   "metadata": {},
   "outputs": [
    {
     "name": "stdout",
     "output_type": "stream",
     "text": [
      "Отфильтрованные числа, упорядоченные по убыванию: [18, 15, 12, 9, 6, 3]\n",
      "Сумма отфильтрованных чисел: 63\n"
     ]
    }
   ],
   "source": [
    "#пункт б\n",
    "from functools import reduce\n",
    "\n",
    "def fil(elem, n):\n",
    "    if elem % n == 0:\n",
    "        return elem\n",
    "    return\n",
    "numbers = list(range(1, 21))\n",
    "n = 3\n",
    "sort_numbers = sorted(filter(lambda x: x % n == 0, numbers), reverse=True)\n",
    "sum_of_numbers = reduce(lambda x, y: x + y, sort_numbers)\n",
    "print(\"Отфильтрованные числа, упорядоченные по убыванию:\", sort_numbers)\n",
    "print(\"Сумма отфильтрованных чисел:\", sum_of_numbers)"
   ]
  },
  {
   "cell_type": "markdown",
   "id": "ce992e22-64db-427c-9279-0e842f73f36c",
   "metadata": {},
   "source": [
    "30\n",
    "а) Создайте декоратор, который будет заменять исключения, возникающие при выполнении функции, на заданное значение и логировать эти замены.\r\n",
    "б) Создайте декоратор, который будет заменять значение аргумента на результат выполнения заданной функции только если оно удовлетворяет определенному условию."
   ]
  },
  {
   "cell_type": "code",
   "execution_count": 1,
   "id": "2c33af7f-08fb-4324-9c4b-087d08b508bb",
   "metadata": {},
   "outputs": [
    {
     "name": "stderr",
     "output_type": "stream",
     "text": [
      "INFO:__main__:Исключение ZeroDivisionError заменено на деление на ноль\n",
      "INFO:__main__:Исключение TypeError заменено на переданы некорректные значения\n"
     ]
    },
    {
     "name": "stdout",
     "output_type": "stream",
     "text": [
      "5.0\n",
      "деление на ноль\n",
      "6\n",
      "переданы некорректные значения\n"
     ]
    }
   ],
   "source": [
    "import logging\n",
    "\n",
    "logging.basicConfig(level=logging.INFO)#настройка логгеа\n",
    "logger = logging.getLogger(__name__)\n",
    "\n",
    "def replacer(value):#value - заменяет исключения\n",
    "    def decorator(func):\n",
    "        def wrapper(*args, **kwargs):#принимает любое количество параметров\n",
    "            try:\n",
    "                return func(*args, **kwargs)\n",
    "            except Exception as e:#е перехватывает исключение на себя\n",
    "                logger.info(f\"Исключение {type(e).__name__} заменено на {value}\")\n",
    "                return value\n",
    "        return wrapper\n",
    "    return decorator\n",
    "\n",
    "@replacer(value=\"деление на ноль\")\n",
    "def divide(x, y):\n",
    "    return x / y\n",
    "\n",
    "@replacer(value=\"переданы некорректные значения\")\n",
    "def func(x, y):\n",
    "    return x + y\n",
    "\n",
    "print(divide(10, 2))\n",
    "print(divide(10, 0))\n",
    "print(func(1, 5))\n",
    "print(func(1, \"ahah\"))"
   ]
  },
  {
   "cell_type": "code",
   "execution_count": 2,
   "id": "48b3cc2b-d18c-4a88-a9c3-031c62ba407c",
   "metadata": {},
   "outputs": [
    {
     "name": "stdout",
     "output_type": "stream",
     "text": [
      "a: value1, b: value2, c: default\n"
     ]
    }
   ],
   "source": [
    "#пункт б\n",
    "def replace_if(is_none, default):\n",
    "    def decorator(func):\n",
    "        def wrapper(*args, **kwargs):\n",
    "            new_args = [default() if is_none(arg) else arg for arg in args]\n",
    "            new_kwargs = {k: default(v) if is_none(v) else v for k, v in kwargs.items()}\n",
    "            return func(*new_args, **new_kwargs)\n",
    "        return wrapper\n",
    "    return decorator\n",
    "\n",
    "def is_none(value):\n",
    "    return value is None\n",
    "\n",
    "def default():\n",
    "    return 'default'\n",
    "\n",
    "@replace_if(is_none, default)\n",
    "def print_values(a, b, c):\n",
    "    print(f\"a: {a}, b: {b}, c: {c}\")\n",
    "\n",
    "print_values('value1', 'value2', None)  # Вывод: a: value1, b: value2, c: default"
   ]
  }
 ],
 "metadata": {
  "kernelspec": {
   "display_name": "Python 3 (ipykernel)",
   "language": "python",
   "name": "python3"
  },
  "language_info": {
   "codemirror_mode": {
    "name": "ipython",
    "version": 3
   },
   "file_extension": ".py",
   "mimetype": "text/x-python",
   "name": "python",
   "nbconvert_exporter": "python",
   "pygments_lexer": "ipython3",
   "version": "3.11.7"
  }
 },
 "nbformat": 4,
 "nbformat_minor": 5
}
