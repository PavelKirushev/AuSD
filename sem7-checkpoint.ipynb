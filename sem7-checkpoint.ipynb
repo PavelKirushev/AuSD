{
 "cells": [
  {
   "cell_type": "markdown",
   "id": "6ea50cf5-7237-467b-82e2-5ea6d5a1b6d7",
   "metadata": {},
   "source": [
    "1) На основе переданной строки (не содержащей повторяющихся символов) создать словарь, в котром каждому символу строки будет соответствовать номер символа в строке. Пример: строка 'abcdef'"
   ]
  },
  {
   "cell_type": "code",
   "execution_count": null,
   "id": "42a885a1-a730-466b-8558-220115044c3a",
   "metadata": {},
   "outputs": [],
   "source": [
    "s = input()\n",
    "slov = {a: s[a] for a in range(len(s))}\n",
    "print(slov)"
   ]
  },
  {
   "cell_type": "markdown",
   "id": "69d8db64-f113-488c-89d9-8fd93dfbbf02",
   "metadata": {},
   "source": [
    "2) Определить сколько элементов заданного списка содержится в словаре. Пример: определить сколько элементов списка l1 содержится в словаре d1 (ответ: 2)"
   ]
  },
  {
   "cell_type": "code",
   "execution_count": null,
   "id": "deadd990-2764-4a4a-97a6-37cb54b7cb42",
   "metadata": {},
   "outputs": [],
   "source": [
    "#непонятное условие"
   ]
  },
  {
   "cell_type": "markdown",
   "id": "4d94f656-9c61-4f37-8f06-4775f796c7ef",
   "metadata": {},
   "source": [
    "3) Для строки evgene_o создать словарь где для всех символов, встречающихся в строке хранится число: сколько раз символ встретился в строке evgene_o."
   ]
  },
  {
   "cell_type": "code",
   "execution_count": null,
   "id": "2f7d7a80-b0ae-438f-8f27-e1928e533af9",
   "metadata": {},
   "outputs": [],
   "source": [
    "evgene_o = input()\n",
    "slovar = {}\n",
    "for i in range(len(evgene_o)):\n",
    "    if evgene_o[i] not in slovar:\n",
    "        slovar[evgene_o[i]] = 0\n",
    "for i in range(len(evgene_o)):\n",
    "    slovar[evgene_o[i]] += 1\n",
    "print(slovar)"
   ]
  },
  {
   "cell_type": "markdown",
   "id": "175a66bc-a8ab-4016-b160-fce070e7a97c",
   "metadata": {},
   "source": [
    "4) Используя словарь, полученный в задаче 4.3 подсчитать количество строчных букв в строке evgene_o."
   ]
  },
  {
   "cell_type": "code",
   "execution_count": null,
   "id": "f7bd21a0-dd87-464e-8771-7033515367a9",
   "metadata": {},
   "outputs": [],
   "source": [
    "evgene_o = input()\n",
    "slovar = {}\n",
    "for i in range(len(evgene_o)):\n",
    "    if evgene_o[i] not in slovar and evgene_o[i].islower():\n",
    "        slovar[evgene_o[i]] = 0\n",
    "cnt = 0\n",
    "for i in range(len(evgene_o)):\n",
    "    if evgene_o[i].islower():\n",
    "        cnt += 1\n",
    "print(cnt)"
   ]
  },
  {
   "cell_type": "markdown",
   "id": "88b0e3f0-b6a9-4905-9623-a6609838bf12",
   "metadata": {},
   "source": [
    "5) Написать код, который создает новый словарь с именем dic4, содержащий все пары ключ-значение из словарей dic1, dic2, dic3."
   ]
  },
  {
   "cell_type": "code",
   "execution_count": null,
   "id": "459e9505-14f5-4595-aaa5-8666d3d745ff",
   "metadata": {},
   "outputs": [],
   "source": [
    "def int_is_str(n):\n",
    "    try:\n",
    "        return int(n)\n",
    "    except ValueError:\n",
    "        return n\n",
    "def input_():\n",
    "    n = int(input(\"Enter len of dict: \"))\n",
    "    dic = [None] * n\n",
    "    for i in range(n):\n",
    "        dic[i] = list(map(str, input().split()))\n",
    "    for i in range(len(dic)):\n",
    "        for j in range(len(dic[0])):\n",
    "            dic[i][j] = int_is_str(dic[i][j])\n",
    "    dic = dict(dic)\n",
    "    return dic\n",
    "def copy(dic1, dic2):\n",
    "    for s, v in dic1.items():\n",
    "        dic2[v] = s\n",
    "    return dic2\n",
    "dic1 = input_()\n",
    "dic2 = input_()\n",
    "dic3 = input_()\n",
    "dic4 = {}\n",
    "copy(dic1, dic4)\n",
    "copy(dic2, dic4)\n",
    "copy(dic3, dic4)\n",
    "print(dic4)"
   ]
  },
  {
   "cell_type": "markdown",
   "id": "7a85b694-42bf-4a17-b4f9-d6cab092a3cb",
   "metadata": {},
   "source": [
    "6) Просуммировать все значения из словаря dic4"
   ]
  },
  {
   "cell_type": "code",
   "execution_count": null,
   "id": "697b8c92-cb57-40da-9dbb-1e2f16cebc88",
   "metadata": {},
   "outputs": [],
   "source": [
    "def int_is_str(n):\n",
    "    try:\n",
    "        return int(n)\n",
    "    except ValueError:\n",
    "        return n\n",
    "def input_():\n",
    "    n = int(input(\"Enter len of dict: \"))\n",
    "    dic = [None] * n\n",
    "    for i in range(n):\n",
    "        dic[i] = list(map(str, input().split()))\n",
    "    for i in range(len(dic)):\n",
    "        for j in range(len(dic[0])):\n",
    "            dic[i][j] = int_is_str(dic[i][j])\n",
    "    dic = dict(dic)\n",
    "    return dic\n",
    "def copy(dic1, dic2):\n",
    "    for s, v in dic1.items():\n",
    "        dic2[v] = s\n",
    "    return dic2\n",
    "dic1 = input_()\n",
    "dic2 = input_()\n",
    "dic3 = input_()\n",
    "dic4 = {}\n",
    "copy(dic1, dic4)\n",
    "copy(dic2, dic4)\n",
    "copy(dic3, dic4)\n",
    "print(dic4)\n",
    "s1 = \"\"\n",
    "v1 = 0\n",
    "for s, v in dic4.items():\n",
    "    try:\n",
    "        v1 += int(v)\n",
    "    except ValueError:\n",
    "        s1 += v\n",
    "if len(s1) != 0 and v1 != 0:\n",
    "    print(s1, v1)\n",
    "elif len(s1) == 0 and v1 != 0:\n",
    "    print(v1)\n",
    "elif len(s1) != 0 and v1 == 0:\n",
    "    print(s1)\n",
    "else:\n",
    "    print(None)"
   ]
  },
  {
   "cell_type": "markdown",
   "id": "0d88019c-4d4f-4eda-b07d-72054ca4f775",
   "metadata": {},
   "source": [
    "7) Перемножить все значения из словаря dic4"
   ]
  },
  {
   "cell_type": "code",
   "execution_count": null,
   "id": "cb1d4725-d93a-4e4d-b328-4084e48daa86",
   "metadata": {},
   "outputs": [],
   "source": [
    "def int_is_str(n):\n",
    "    try:\n",
    "        return int(n)\n",
    "    except ValueError:\n",
    "        return n\n",
    "def input_():\n",
    "    n = int(input(\"Enter len of dict: \"))\n",
    "    dic = [None] * n\n",
    "    for i in range(n):\n",
    "        dic[i] = list(map(str, input().split()))\n",
    "    for i in range(len(dic)):\n",
    "        for j in range(len(dic[0])):\n",
    "            dic[i][j] = int_is_str(dic[i][j])\n",
    "    dic = dict(dic)\n",
    "    return dic\n",
    "def copy(dic1, dic2):\n",
    "    for s, v in dic1.items():\n",
    "        dic2[v] = s\n",
    "    return dic2\n",
    "dic1 = input_()\n",
    "dic2 = input_()\n",
    "dic3 = input_()\n",
    "dic4 = {}\n",
    "copy(dic1, dic4)\n",
    "copy(dic2, dic4)\n",
    "copy(dic3, dic4)\n",
    "print(dic4)\n",
    "v1 = 1\n",
    "for s, v in dic4.items():\n",
    "    try:\n",
    "        v1 *= int(v)\n",
    "    except ValueError:\n",
    "        v1 = v1\n",
    "print(v1)"
   ]
  },
  {
   "cell_type": "markdown",
   "id": "3787cb91-5c85-4e4d-b4f5-c66f91e458ed",
   "metadata": {},
   "source": [
    "8) Просуммировать произведения ключей на словаря dic4 на соответствующие им значения"
   ]
  },
  {
   "cell_type": "code",
   "execution_count": null,
   "id": "04b2a47b-71ee-4c1e-a5a9-d5a47737c7d1",
   "metadata": {},
   "outputs": [],
   "source": [
    "def int_is_str(n):\n",
    "    try:\n",
    "        return int(n)\n",
    "    except ValueError:\n",
    "        return n\n",
    "def input_():\n",
    "    n = int(input(\"Enter len of dict: \"))\n",
    "    dic = [None] * n\n",
    "    for i in range(n):\n",
    "        dic[i] = list(map(str, input().split()))\n",
    "    for i in range(len(dic)):\n",
    "        for j in range(len(dic[0])):\n",
    "            dic[i][j] = int_is_str(dic[i][j])\n",
    "    dic = dict(dic)\n",
    "    return dic\n",
    "def copy(dic1, dic2):\n",
    "    for s, v in dic1.items():\n",
    "        dic2[v] = s\n",
    "    return dic2\n",
    "dic1 = input_()\n",
    "dic2 = input_()\n",
    "dic3 = input_()\n",
    "dic4 = {}\n",
    "copy(dic1, dic4)\n",
    "copy(dic2, dic4)\n",
    "copy(dic3, dic4)\n",
    "print(dic4)\n",
    "v1 = 0\n",
    "for s, v in dic4.items():\n",
    "    try:\n",
    "        v1 += (s * v)\n",
    "    except ValueError:\n",
    "        v1 = v1\n",
    "    except TypeError:\n",
    "        v1 = v1\n",
    "print(v1)"
   ]
  },
  {
   "cell_type": "markdown",
   "id": "1553091a-00ed-4e60-9ece-f4098318b89c",
   "metadata": {},
   "source": [
    "9) На базе словаря dic6 создать словарь dic7 в котором нет пар ключ-значение с ключами, встречающимися в словаре dic5"
   ]
  },
  {
   "cell_type": "code",
   "execution_count": null,
   "id": "b0971854-044b-448d-8363-a234c3eca7f6",
   "metadata": {},
   "outputs": [],
   "source": [
    "def int_is_str(n):\n",
    "    try:\n",
    "        return int(n)\n",
    "    except ValueError:\n",
    "        return n\n",
    "def input_(n):\n",
    "    n = int(input(\"Enter len of dict\" + str(n) + \": \"))\n",
    "    dic = [None] * n\n",
    "    for i in range(n):\n",
    "        dic[i] = list(map(str, input().split()))\n",
    "    for i in range(len(dic)):\n",
    "        for j in range(len(dic[0])):\n",
    "            dic[i][j] = int_is_str(dic[i][j])\n",
    "    dic = dict(dic)\n",
    "    return dic\n",
    "def copy_without(dic6, dic7, dic5):\n",
    "    for s, v in dic6.items():\n",
    "        try:\n",
    "            if dic5[s] != v:\n",
    "                dic7[s] = v\n",
    "        except KeyError:\n",
    "            dic7[s] = v\n",
    "    return dic7\n",
    "\n",
    "dic6 = input_(6)\n",
    "dic5 = input_(5)\n",
    "dic7 = {}\n",
    "copy_without(dic6, dic7, dic5)\n",
    "print(dic7)"
   ]
  },
  {
   "cell_type": "markdown",
   "id": "7ff1b94d-5338-4172-b257-9cf1f06367d8",
   "metadata": {},
   "source": [
    "10) Создать словарь dic8 в котором есть все пары ключ-значения из dic5, а для ключей, которые есть в dic6, но отсутствуют в dic5 добавить соответствующие пары ключ-значения в dic8."
   ]
  },
  {
   "cell_type": "code",
   "execution_count": null,
   "id": "4a9e5a1d-4df3-4975-992b-08249cb1844e",
   "metadata": {},
   "outputs": [],
   "source": [
    "def int_is_str(n):\n",
    "    try:\n",
    "        return int(n)\n",
    "    except ValueError:\n",
    "        return n\n",
    "def input_(n):\n",
    "    n = int(input(\"Enter len of dict\" + str(n) + \": \"))\n",
    "    dic = [None] * n\n",
    "    for i in range(n):\n",
    "        dic[i] = list(map(str, input().split()))\n",
    "    for i in range(len(dic)):\n",
    "        for j in range(len(dic[0])):\n",
    "            dic[i][j] = int_is_str(dic[i][j])\n",
    "    dic = dict(dic)\n",
    "    return dic\n",
    "def copy_after(dic6, dic8, dic5):\n",
    "    for s, v in dic5.items():\n",
    "        dic8[s] = v\n",
    "    for s, v in dic6.items():\n",
    "        if s not in dic5:\n",
    "            dic8[s] = v\n",
    "    return dic8\n",
    "\n",
    "dic5 = input_(5)\n",
    "dic6 = input_(6)\n",
    "dic8 = {}\n",
    "copy_after(dic6, dic8, dic5)\n",
    "print(dic8)"
   ]
  },
  {
   "cell_type": "markdown",
   "id": "e1211fc8-4cd5-420c-80bb-dda465e6145b",
   "metadata": {},
   "source": [
    "11) Из списка ri1 получить упорядоченный по возрастанию список не имеющий повторяющихся значений."
   ]
  },
  {
   "cell_type": "code",
   "execution_count": null,
   "id": "f1b9b2a5-82b3-44d7-9bf4-63a2f6ed4769",
   "metadata": {},
   "outputs": [],
   "source": [
    "def ex_sort(mas):\n",
    "    for i in range(len(mas) - 1):\n",
    "        for j in range(len(mas) - 1 - i):\n",
    "            if mas[j] > mas[j + 1]:\n",
    "                mas[j], mas[j + 1] = mas[j + 1], mas[j]\n",
    "    i = 0\n",
    "    while i < len(mas) - 1:\n",
    "        if mas[i] == mas[i + 1]:\n",
    "            mas.pop(i)\n",
    "            continue\n",
    "        i += 1\n",
    "\n",
    "ri1 = list(map(int, input().split()))\n",
    "ex_sort(ri1)\n",
    "print(ri1)"
   ]
  },
  {
   "cell_type": "markdown",
   "id": "e4b53c61-6642-454f-b4bf-c9d150003c9a",
   "metadata": {},
   "source": [
    "11.2) Используя распаковку из списка списков сделать список, содержащий последовательность первых и последних значений вложенных списков и сохраняющий порядок их следования.\r\n",
    "Пример: [[1, 2, 3], [4, 5, 6, 7], [9, 2]] -> [1, 3, 4, 7, 9, 2]"
   ]
  },
  {
   "cell_type": "code",
   "execution_count": null,
   "id": "7c53ab9a-5a60-4da6-a80b-b9887bd3069a",
   "metadata": {},
   "outputs": [],
   "source": [
    "mas = []\n",
    "s = input()\n",
    "while s != \"\":\n",
    "    mas.append(list(map(int, s.split())))\n",
    "    s = input()\n",
    "arr = sum(mas, [])\n",
    "for i in range(len(mas)):\n",
    "    for j in range(1, len(mas[i]) - 1):\n",
    "        arr.pop(arr.index(mas[i][j]))\n",
    "print(arr)"
   ]
  },
  {
   "cell_type": "markdown",
   "id": "7bd1d38f-6c9d-4d3a-a8fd-d816043c0537",
   "metadata": {},
   "source": [
    "11.3) В словаре, полученном в задаче 3 удалить все пары ключ/значения для символов, встречающихся менее 5 раз."
   ]
  },
  {
   "cell_type": "code",
   "execution_count": null,
   "id": "0d06930f-77a6-4601-ab6a-59135d0785d4",
   "metadata": {},
   "outputs": [],
   "source": [
    "evgene_o = input()\n",
    "slovar = {}\n",
    "for i in range(len(evgene_o)):\n",
    "    if evgene_o[i] not in slovar:\n",
    "        slovar[evgene_o[i]] = 0\n",
    "for i in range(len(evgene_o)):\n",
    "    slovar[evgene_o[i]] += 1\n",
    "print(slovar)\n",
    "key = list(slovar.keys())\n",
    "value = list(slovar.values())\n",
    "for i in range(len(value)):\n",
    "    if value[i] < 5:\n",
    "        slovar.pop(key[i])\n",
    "print(slovar)"
   ]
  },
  {
   "cell_type": "markdown",
   "id": "bebb8dc5-4968-4916-94c9-d43aaf40a873",
   "metadata": {},
   "source": [
    "4.12) Составить программу \"мешок\". Программа раз за разом запрашивает у пользователя новые значения и \"кладет их в мешок\". Если полученное значение уже есть в мешке, то оно не помещается в мешок, а пользователю сообщается о том, что такое значение уже есть в мешке. Максимальное количество значений в мешке - 5 штук. Если помещение в мешок очередного значения приводит к превышению допустимого количества значений, то из него извлекается одно из хранившихся в нем ранее значений и предъявляется пользователю. Для того чтобы выйти из программы пользователь вводит пустое значение. При выходе из программы пользователю демонстрируется содержимое мешка.\n",
    "*) Дополнительная опция: пользователь может вводить сразу несколько значений, разделенных запятой. "
   ]
  },
  {
   "cell_type": "code",
   "execution_count": null,
   "id": "587e7a9d-363d-4cbc-817e-e9c935a34fd9",
   "metadata": {},
   "outputs": [],
   "source": [
    "dic = {}\n",
    "i = 1\n",
    "print(\"Введите значения(выход - пустая строка)\")\n",
    "g = 1\n",
    "while 1:\n",
    "    if not g:\n",
    "        print(f\"Введите новое значение({i} значение пропадет), либо завершите программу пустой строкой\")\n",
    "    s = input()\n",
    "    if s == \"\":\n",
    "        break\n",
    "    n = int(s)\n",
    "    f = 1\n",
    "    for k, v in dic.items():\n",
    "        if n == v:\n",
    "            print(\"Такое значение уже есть\")\n",
    "            f = 0\n",
    "            break\n",
    "    if not f:\n",
    "        continue\n",
    "    dic[i] = n\n",
    "    i += 1\n",
    "    if i == 6:\n",
    "        g = 0\n",
    "        i = 1\n",
    "        print(\"Мешок заполнен\")\n",
    "print(dic)"
   ]
  }
 ],
 "metadata": {
  "kernelspec": {
   "display_name": "Python 3 (ipykernel)",
   "language": "python",
   "name": "python3"
  },
  "language_info": {
   "codemirror_mode": {
    "name": "ipython",
    "version": 3
   },
   "file_extension": ".py",
   "mimetype": "text/x-python",
   "name": "python",
   "nbconvert_exporter": "python",
   "pygments_lexer": "ipython3",
   "version": "3.11.7"
  }
 },
 "nbformat": 4,
 "nbformat_minor": 5
}
