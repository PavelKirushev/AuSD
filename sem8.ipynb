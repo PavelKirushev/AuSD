{
 "cells": [
  {
   "cell_type": "markdown",
   "id": "6224a6fe-2d11-4bff-8fde-a67a5dd9e5d1",
   "metadata": {},
   "source": [
    "\n",
    "1) Используя список l1, создать список, в котором каждый элемент списка l1 будет заменен значением длины строки соответствующего элемента в списке l1. Использовать генераторы, решить задачу в одну строку."
   ]
  },
  {
   "cell_type": "code",
   "execution_count": null,
   "id": "f8d84240-4a5d-4ab9-9ab4-898b1cfeccc1",
   "metadata": {},
   "outputs": [],
   "source": [
    "l1 = ['1', '123', '123', '12', '1', '123']\n",
    "print([len(a) for a in I1])"
   ]
  },
  {
   "cell_type": "markdown",
   "id": "c632d2a6-7910-4e8c-8576-f293546b9949",
   "metadata": {},
   "source": [
    "2) Подсчитать количество строк в списке l1, длина которых больше 2х. Использовать генераторы, решить задачу в одну строку."
   ]
  },
  {
   "cell_type": "code",
   "execution_count": null,
   "id": "c91257d6-231b-4810-858e-e9caa323cd04",
   "metadata": {},
   "outputs": [],
   "source": [
    "l1 = ['1', '123', '123', '12', '1', '123']\n",
    "print(len([a for a in I1 if len(a) > 2]))"
   ]
  },
  {
   "cell_type": "markdown",
   "id": "1837f1b4-8d52-4ff7-b3a5-5481feed6182",
   "metadata": {},
   "source": [
    "3) Создать список, в котором все числа списка l2 умножены на их номер в списке. Использовать генераторы, решить задачу в одну строку."
   ]
  },
  {
   "cell_type": "code",
   "execution_count": null,
   "id": "74704188-a37e-4c44-944d-c7ab481aef40",
   "metadata": {},
   "outputs": [],
   "source": [
    "l2 = [2, 4, -2, -3, 0, 11, 3, -1]\n",
    "print([l2[i - 1] * i for i in range(1, len(l2) + 1)])"
   ]
  },
  {
   "cell_type": "markdown",
   "id": "41b3f363-2949-418a-aa72-d2538c4967c6",
   "metadata": {},
   "source": [
    "4) Создать список, в котором все отрицательные числа списка l2 исключены, остальные элементы сохранены на своих местах. Использовать генераторы, решить задачу в одну строку."
   ]
  },
  {
   "cell_type": "code",
   "execution_count": null,
   "id": "f0394436-1193-4d19-ace5-1a12ad6f6a2d",
   "metadata": {},
   "outputs": [],
   "source": [
    "l2 = [2, 4, -2, -3, 0, 11, 3, -1]\n",
    "print([a for a in l2 if a >= 0])"
   ]
  },
  {
   "cell_type": "markdown",
   "id": "b65ae2d0-7858-488f-b35e-9a6d3fbc2098",
   "metadata": {},
   "source": [
    "5) Создать список, в котором все отрицательные числа списка l2 заменены на их номер в списке, остальные элементы сохранены на своих местах. Использовать генераторы и тернарный оператор, решить задачу в одну строку."
   ]
  },
  {
   "cell_type": "code",
   "execution_count": null,
   "id": "69423da2-2423-4303-ab58-d31298d015b1",
   "metadata": {},
   "outputs": [],
   "source": [
    "l2 = [2, 4, -2, -3, 0, 11, 3, -1]\n",
    "print([l2[i] if l2[i] >= 0 else i + 1 for i in range(len(l2))])"
   ]
  },
  {
   "cell_type": "markdown",
   "id": "e75c3dbd-6781-43cf-a129-1d6428c91776",
   "metadata": {},
   "source": [
    "6) На основе переданной строки (не содержащей повторяющихся символов) создать словарь, в котором каждому символу строки будет соответствовать номер символа в строке. Использовать генераторы, решить задачу в одну строку. Пример: строка 'abcdef', словарь {'a': 1, 'b': 2, 'c': 3, 'd': 4}"
   ]
  },
  {
   "cell_type": "code",
   "execution_count": null,
   "id": "c34f9ca6-700f-4697-a853-269061f0ad5e",
   "metadata": {},
   "outputs": [],
   "source": [
    "s = input()\n",
    "print({s[i]: i + 1 for i in range(len(s))})"
   ]
  },
  {
   "cell_type": "markdown",
   "id": "80a7565d-41ff-41a3-95f5-f038e84dacce",
   "metadata": {},
   "source": [
    "7) Определить, сколько элементов заданного списка содержится в словаре. Использовать генераторы, решить задачу в одну строку. Пример: определить сколько элементов списка l1 содержится в словаре d1. (ответ: 2)"
   ]
  },
  {
   "cell_type": "code",
   "execution_count": null,
   "id": "6eb58fd2-8e5b-42fa-be8d-45c47c67f306",
   "metadata": {},
   "outputs": [],
   "source": [
    "l2 = [20, 40, -20, -30, 0, 110, 30, -10]\n",
    "d4 = {1: 10, 2: 20, 3: 30, 4: 40, 5: 50, 6: 60}\n",
    "print(len([a for a in l2 for k, v in d4.items() if a == v]))"
   ]
  },
  {
   "cell_type": "markdown",
   "id": "2c09f308-50d8-489c-a41f-08408150ff6c",
   "metadata": {},
   "source": [
    "8) Для строки evgene_o создать словарь, где для всех символов, встречающихся в строке, хранится число: сколько раз символ встретился в строке evgene_o. Использовать генераторы, решить задачу в одну строку."
   ]
  },
  {
   "cell_type": "code",
   "execution_count": null,
   "id": "c4edfb5e-9cfd-4b8f-a400-85e41d6f3a90",
   "metadata": {},
   "outputs": [],
   "source": [
    "evgene_o = input()\n",
    "print({evgene_o[i]: evgene_o.count(evgene_o[i]) for i in range(len(evgene_o))})"
   ]
  },
  {
   "cell_type": "markdown",
   "id": "0c23ec67-f0bc-412e-9c24-339b31c75491",
   "metadata": {},
   "source": [
    "9) Используя словарь, полученный в предыдущей задаче, подсчитать количество строчных букв в строке evgene_o. Использовать генераторы, решить задачу в одну строку."
   ]
  },
  {
   "cell_type": "code",
   "execution_count": null,
   "id": "1f94668a-0907-424e-a951-37a983f6c09f",
   "metadata": {},
   "outputs": [],
   "source": [
    "evgene_o = input()\n",
    "print({evgene_o[i]: evgene_o.count(evgene_o[i]) for i in range(len(evgene_o)) if evgene_o[i].islower()})"
   ]
  },
  {
   "cell_type": "markdown",
   "id": "af075e55-782d-4eeb-ae5c-5d3446e862e4",
   "metadata": {},
   "source": [
    "10) Просуммировать произведения ключей словаря d4 на соответствующие им значения. Использовать генераторы, решить задачу в одну строку."
   ]
  },
  {
   "cell_type": "code",
   "execution_count": null,
   "id": "7d88f0c4-565d-4540-a721-9398a8f0a6b7",
   "metadata": {},
   "outputs": [],
   "source": [
    "d4 = {1: 10, 2: 20, 3: 30, 4: 40, 5: 50, 6: 60}\n",
    "print(sum([k * v for k, v in d4.items()]))"
   ]
  },
  {
   "cell_type": "markdown",
   "id": "572a41c7-1bb0-46ec-b6d9-46c251da0ee0",
   "metadata": {},
   "source": [
    "11) На базе словаря d6 создать словарь d7, в котором нет пар ключ-значение с ключами, встречающимися в словаре d5. Использовать генераторы, решить задачу в одну строку."
   ]
  },
  {
   "cell_type": "code",
   "execution_count": null,
   "id": "b9fe63e4-639a-44ab-a082-741010ca71e1",
   "metadata": {},
   "outputs": [],
   "source": [
    "d5 = {'a': 3, 'b': 4, 'c': 5, 'd': 6, 'e': 7, 'f': 8, 'g': 9}\n",
    "d6 = {'e': 20, 'f': 21, 'g': 22, 'h': 23, 'i': 24, 'j': 25, 'k': 26, 'l': 27}\n",
    "d7 = {k: v for k, v in d6.items() if k not in d5}\n",
    "print(d7)"
   ]
  },
  {
   "cell_type": "markdown",
   "id": "3c25c1c7-1d1a-4934-acd2-9dfac7309303",
   "metadata": {},
   "source": [
    "12)* Создать словарь d8, в котором есть все пары ключ-значения из d5, а для ключей, которые есть в d6, но отсутствуют в d5, добавить соответствующие пары ключ-значения в d8. Использовать генераторы, решить задачу в одну строку."
   ]
  },
  {
   "cell_type": "code",
   "execution_count": null,
   "id": "b1e7327c-fbdf-4aef-ae87-7af2f339fcf6",
   "metadata": {},
   "outputs": [],
   "source": [
    "d5 = {'a': 3, 'b': 4, 'c': 5, 'd': 6, 'e': 7, 'f': 8, 'g': 9}\n",
    "d6 = {'e': 20, 'f': 21, 'g': 22, 'h': 23, 'i': 24, 'j': 25, 'k': 26, 'l': 27}\n",
    "d8 = {k: d5[k] if k in d5 else v for k, v in d6.items()}\n",
    "print(d8)"
   ]
  },
  {
   "cell_type": "markdown",
   "id": "834b6b74-7921-442b-94ca-2a5a53ef2b1a",
   "metadata": {},
   "source": [
    "13) В словаре, полученном в задаче со стихотворением, удалить все пары ключ-значение для символов, встречающихся менее 5 раз. Использовать генераторы, решить задачу в одну строку."
   ]
  },
  {
   "cell_type": "code",
   "execution_count": null,
   "id": "64fd3a7f-baf1-40f0-a59a-198e1f5756f3",
   "metadata": {},
   "outputs": [],
   "source": [
    "evgene_o = input()\n",
    "print({evgene_o[i]: evgene_o.count(evgene_o[i]) for i in range(len(evgene_o)) if evgene_o.count((evgene_o[i])) >= 5})"
   ]
  }
 ],
 "metadata": {
  "kernelspec": {
   "display_name": "Python 3 (ipykernel)",
   "language": "python",
   "name": "python3"
  },
  "language_info": {
   "codemirror_mode": {
    "name": "ipython",
    "version": 3
   },
   "file_extension": ".py",
   "mimetype": "text/x-python",
   "name": "python",
   "nbconvert_exporter": "python",
   "pygments_lexer": "ipython3",
   "version": "3.11.7"
  }
 },
 "nbformat": 4,
 "nbformat_minor": 5
}
